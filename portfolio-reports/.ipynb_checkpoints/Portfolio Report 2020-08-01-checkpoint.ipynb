{
 "cells": [
  {
   "cell_type": "markdown",
   "metadata": {},
   "source": [
    "# Portfolio Overview July 2020"
   ]
  },
  {
   "cell_type": "code",
   "execution_count": 6,
   "metadata": {},
   "outputs": [],
   "source": [
    "from selenium import webdriver\n",
    "import time\n",
    "import pandas as pd\n",
    "import numpy as np\n",
    "from datetime import date\n",
    "\n",
    "from webdriver_manager.chrome import ChromeDriverManager\n",
    "import sys\n",
    "sys.path.append(\"..\") # includes parent directory\n",
    "\n",
    "import config\n",
    "nordnetBrukerNavn = config.nordnetBrukerNavn\n",
    "nordnetPassord = config.nordnetPassord\n",
    "\n"
   ]
  },
  {
   "cell_type": "code",
   "execution_count": 7,
   "metadata": {},
   "outputs": [
    {
     "name": "stderr",
     "output_type": "stream",
     "text": [
      "[WDM] - Current google-chrome version is 80.0.3987\n",
      "[WDM] - Get LATEST driver version for 80.0.3987\n",
      "[WDM] - Driver [C:\\Users\\larsshe\\.wdm\\drivers\\chromedriver\\win32\\80.0.3987.106\\chromedriver.exe] found in cache\n"
     ]
    },
    {
     "name": "stdout",
     "output_type": "stream",
     "text": [
      " \n"
     ]
    }
   ],
   "source": [
    "chrome_options = webdriver.ChromeOptions()\n",
    "chrome_options.add_argument(\"--headless\")\n",
    "chrome_options.add_argument(\"--disable-gpu\")\n",
    "browser = webdriver.Chrome(ChromeDriverManager().install(),options=chrome_options)\n"
   ]
  },
  {
   "cell_type": "code",
   "execution_count": 6,
   "metadata": {},
   "outputs": [
    {
     "name": "stdout",
     "output_type": "stream",
     "text": [
      "Page title was 'Login - Nordnet'\n"
     ]
    }
   ],
   "source": []
  },
  {
   "cell_type": "code",
   "execution_count": 8,
   "metadata": {},
   "outputs": [
    {
     "name": "stdout",
     "output_type": "stream",
     "text": [
      "Page title was 'Login - Nordnet'\n",
      "Page title was 'Økonomisk oversikt - Nordnet'\n"
     ]
    }
   ],
   "source": [
    "browser.get(\n",
    "\"https://classic.nordnet.no/mux/login/startNO.html?clearEndpoint=0&intent=next\")\n",
    "print(\"Page title was '{}'\".format(browser.title))\n",
    "time.sleep(5)\n",
    "\n",
    "switchToPasLogIn = browser.find_elements_by_xpath(\n",
    "    '//button[starts-with(., \"brukernavn og passord\")]')[0].click()\n",
    "time.sleep(2)\n",
    "\n",
    "# Inserting values:\n",
    "logOnName = browser.find_elements_by_xpath(\n",
    "    '//input')[0].send_keys(nordnetBrukerNavn)\n",
    "password = browser.find_elements_by_xpath('//input')[1].send_keys(nordnetPassord)\n",
    "\n",
    "switchToPasLogIn = browser.find_elements_by_xpath(\n",
    "    '//button[starts-with(., \"Logg inn\")]')[0].click()\n",
    "time.sleep(10)\n",
    "print(\"Page title was '{}'\".format(browser.title))\n"
   ]
  },
  {
   "cell_type": "code",
   "execution_count": 9,
   "metadata": {},
   "outputs": [
    {
     "name": "stdout",
     "output_type": "stream",
     "text": [
      "Page title was 'Kontooversikt - Nordnet'\n"
     ]
    }
   ],
   "source": [
    "browser.get('https://www.nordnet.no/overview/details/3')\n",
    "print(\"Page title was '{}'\".format(browser.title))\n"
   ]
  },
  {
   "cell_type": "code",
   "execution_count": 32,
   "metadata": {},
   "outputs": [],
   "source": [
    "tableRows = browser.find_elements_by_xpath('//tr') # Find all rows\n",
    "stocks = []\n",
    "values = []\n",
    "for row in tableRows:\n",
    "        tempData = row.text.split('\\n')\n",
    "        if len(tempData) >= 3:\n",
    "            ticker, prct, value = tempData\n",
    "            stocks.append(ticker)\n",
    "            values.append(float(value.replace(\" \", \"\")))\n"
   ]
  },
  {
   "cell_type": "code",
   "execution_count": 40,
   "metadata": {},
   "outputs": [],
   "source": [
    "browser.quit()"
   ]
  },
  {
   "cell_type": "code",
   "execution_count": 42,
   "metadata": {},
   "outputs": [
    {
     "name": "stdout",
     "output_type": "stream",
     "text": [
      "2020-07-29\n"
     ]
    }
   ],
   "source": [
    "from datetime import datetime # Current date time in local system \n"
   ]
  },
  {
   "cell_type": "code",
   "execution_count": 45,
   "metadata": {},
   "outputs": [
    {
     "data": {
      "text/html": [
       "<div>\n",
       "<style scoped>\n",
       "    .dataframe tbody tr th:only-of-type {\n",
       "        vertical-align: middle;\n",
       "    }\n",
       "\n",
       "    .dataframe tbody tr th {\n",
       "        vertical-align: top;\n",
       "    }\n",
       "\n",
       "    .dataframe thead th {\n",
       "        text-align: right;\n",
       "    }\n",
       "</style>\n",
       "<table border=\"1\" class=\"dataframe\">\n",
       "  <thead>\n",
       "    <tr style=\"text-align: right;\">\n",
       "      <th></th>\n",
       "      <th>stock</th>\n",
       "      <th>value</th>\n",
       "      <th>date</th>\n",
       "    </tr>\n",
       "  </thead>\n",
       "  <tbody>\n",
       "    <tr>\n",
       "      <th>0</th>\n",
       "      <td>SGOL</td>\n",
       "      <td>10289.0</td>\n",
       "      <td>2020-07-29</td>\n",
       "    </tr>\n",
       "    <tr>\n",
       "      <th>1</th>\n",
       "      <td>FMX</td>\n",
       "      <td>11185.0</td>\n",
       "      <td>2020-07-29</td>\n",
       "    </tr>\n",
       "    <tr>\n",
       "      <th>2</th>\n",
       "      <td>IEV</td>\n",
       "      <td>28421.0</td>\n",
       "      <td>2020-07-29</td>\n",
       "    </tr>\n",
       "    <tr>\n",
       "      <th>3</th>\n",
       "      <td>MGM</td>\n",
       "      <td>8426.0</td>\n",
       "      <td>2020-07-29</td>\n",
       "    </tr>\n",
       "    <tr>\n",
       "      <th>4</th>\n",
       "      <td>GXC</td>\n",
       "      <td>36280.0</td>\n",
       "      <td>2020-07-29</td>\n",
       "    </tr>\n",
       "  </tbody>\n",
       "</table>\n",
       "</div>"
      ],
      "text/plain": [
       "  stock    value        date\n",
       "0  SGOL  10289.0  2020-07-29\n",
       "1   FMX  11185.0  2020-07-29\n",
       "2   IEV  28421.0  2020-07-29\n",
       "3   MGM   8426.0  2020-07-29\n",
       "4   GXC  36280.0  2020-07-29"
      ]
     },
     "execution_count": 45,
     "metadata": {},
     "output_type": "execute_result"
    }
   ],
   "source": [
    "df = pd.DataFrame()\n",
    "df['stock'] = stocks\n",
    "df['value'] = values\n",
    "current_date = datetime.date(datetime.now())\n",
    "df['date'] = current_date\n",
    "\n",
    "df.head()"
   ]
  },
  {
   "cell_type": "code",
   "execution_count": null,
   "metadata": {},
   "outputs": [],
   "source": []
  },
  {
   "cell_type": "code",
   "execution_count": null,
   "metadata": {},
   "outputs": [],
   "source": []
  }
 ],
 "metadata": {
  "kernelspec": {
   "display_name": "Python 3",
   "language": "python",
   "name": "python3"
  },
  "language_info": {
   "codemirror_mode": {
    "name": "ipython",
    "version": 3
   },
   "file_extension": ".py",
   "mimetype": "text/x-python",
   "name": "python",
   "nbconvert_exporter": "python",
   "pygments_lexer": "ipython3",
   "version": "3.6.5"
  }
 },
 "nbformat": 4,
 "nbformat_minor": 4
}
