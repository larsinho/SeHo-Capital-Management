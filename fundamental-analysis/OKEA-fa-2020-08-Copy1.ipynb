{
 "cells": [
  {
   "cell_type": "markdown",
   "metadata": {},
   "source": [
    "# Fundamental Analysis - OKEA (OKEA)\n",
    "###  (2020-08-16)\n"
   ]
  },
  {
   "cell_type": "markdown",
   "metadata": {},
   "source": [
    "\n",
    "<div style=\"float: left;\">\n",
    "<ol>\n",
    "    <li>Do they produce positive FCF?</li>\n",
    "    <li>Can they breach the debt covenants?</li>\n",
    "    <li>Why are they down 50% while EQNR is only down 10%?</li>\n",
    "    <li>Is it likely that they have to clean up the platforms?</li>\n",
    "</ol>\n",
    "</div>\n"
   ]
  },
  {
   "cell_type": "markdown",
   "metadata": {},
   "source": [
    "## Q2 takeaways"
   ]
  },
  {
   "cell_type": "markdown",
   "metadata": {},
   "source": [
    "- Total production 19 000 boepd (normal times)\n",
    "- Draugen and Gjøa  prodcues 16 000 boepd (i.e. almost everything)\n",
    "- They rescheduled planned maintance during the Covid-crisis (fall 3000 boepdfrom previous quarter)\n",
    "- Production cost is approximatley 100 NOK/boe. (9.5 USD/boe)\n",
    "- They have 1 000 mNOK in cash. \n",
    "- They have burned around 300 mNOK cash in one year.\n",
    "- They managed to cut investment by 1/3\n",
    "- Draugen is expected to last until 2020\n",
    "- They have approximately 50 mboe proven reserves\n",
    "- They do have a considerable liability to cover clean up cost 4 069 mNOK out of 11 000 mNOK total assets."
   ]
  },
  {
   "cell_type": "markdown",
   "metadata": {},
   "source": [
    "### Bond holders:\n",
    "\n",
    "- By the end of June, OKEA had reached agreement with the\n",
    "bondholders to amend the terms under the bond loans to better suit the current outlok\n",
    "- The company’s proposed amendments to the bond agreements for OKEA02 and OKEA03 were adopted in\n",
    "bondholder meetings on 29 June 2020. The amendments secure financing terms for OKEA which is better\n",
    "tailored for the current outlook. In return, the bondholders were granted a waiver fee of 50 basis points (bps),\n",
    "increased redemption/call prices of 100 bps and a put option of 15% of the outstanding bonds at par which is\n",
    "exercisable in June 2021.\n",
    "- 50 bps -> 0.5% \n",
    "- A put option gives the buyer the right to sell a bond at the strike price of the contract. \n",
    "- I assume this implies that the bond holders can sell 15 of their bonds back to OKEA on June 2021. "
   ]
  },
  {
   "cell_type": "markdown",
   "metadata": {},
   "source": [
    "## Valuation:\n"
   ]
  },
  {
   "cell_type": "code",
   "execution_count": 19,
   "metadata": {},
   "outputs": [],
   "source": [
    "import numpy as np"
   ]
  },
  {
   "cell_type": "code",
   "execution_count": 26,
   "metadata": {},
   "outputs": [
    {
     "name": "stdout",
     "output_type": "stream",
     "text": [
      "FCF is: 985 mNOK\n",
      "OKEA assumes production until 2035:\n",
      "The enterprise value is then: 7256.19 mNOK (10% discount rate)\n"
     ]
    }
   ],
   "source": [
    "EBIT = 827\n",
    "tax = 500\n",
    "EBIT_after_tax = EBIT - tax\n",
    "Depreciation = 708\n",
    "change_in_working_cap = 0  \n",
    "CAPEX = 50 # (majority is investments in new properties 708)\n",
    "FCF = EBIT_after_tax + Depreciation - change_in_working_cap - CAPEX\n",
    "print(f\"FCF is: {FCF} mNOK\")\n",
    "\n",
    "print(\"OKEA assumes production until 2035:\")\n",
    "years = range(1,15)\n",
    "r = 0.1\n",
    "EV = 0 \n",
    "for year in years:\n",
    "    EV += FCF / 1.1**year\n",
    "\n",
    "print(f\"The enterprise value is then: {np.round(EV,2)} mNOK (10% discount rate)\")"
   ]
  },
  {
   "cell_type": "code",
   "execution_count": 29,
   "metadata": {},
   "outputs": [
    {
     "name": "stdout",
     "output_type": "stream",
     "text": [
      "Market cap is: 4436.19 mNOK\n",
      "Means per share: 43.49 \n"
     ]
    }
   ],
   "source": [
    "# Debt value:\n",
    "debt_interest_bearing = 2820.0 # based on Q2 tall\n",
    "cash = 0 # Assuming no cash can be taken out of company.\n",
    "marketcap = EV - debt_interest_bearing + cash\n",
    "print(f\"Market cap is: {np.round(marketcap,2)} mNOK\")\n",
    "stock_price = marketcap / 102 # 502 650\n",
    "print(f\"Means per share: {np.round(stock_price,2)} \")"
   ]
  },
  {
   "cell_type": "markdown",
   "metadata": {},
   "source": [
    "### Note that this is with 2019 oil prices (56)."
   ]
  },
  {
   "cell_type": "markdown",
   "metadata": {},
   "source": [
    "- Also, I assume that the bonds with put option will be exercised (since they are issued on par),\n",
    "- However, 15% of bonds OKEA2 og OKEA3 (total long term debt is 2820 mNOK).\n",
    "- I cannot see how they will go bankrupt based on this"
   ]
  },
  {
   "cell_type": "code",
   "execution_count": null,
   "metadata": {},
   "outputs": [],
   "source": []
  },
  {
   "cell_type": "code",
   "execution_count": null,
   "metadata": {},
   "outputs": [],
   "source": []
  },
  {
   "cell_type": "code",
   "execution_count": null,
   "metadata": {},
   "outputs": [],
   "source": []
  }
 ],
 "metadata": {
  "kernelspec": {
   "display_name": "Python 3",
   "language": "python",
   "name": "python3"
  },
  "language_info": {
   "codemirror_mode": {
    "name": "ipython",
    "version": 3
   },
   "file_extension": ".py",
   "mimetype": "text/x-python",
   "name": "python",
   "nbconvert_exporter": "python",
   "pygments_lexer": "ipython3",
   "version": "3.7.6"
  }
 },
 "nbformat": 4,
 "nbformat_minor": 4
}
